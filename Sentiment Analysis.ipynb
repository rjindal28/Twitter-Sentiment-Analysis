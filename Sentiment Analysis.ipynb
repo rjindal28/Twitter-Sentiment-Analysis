{
 "cells": [
  {
   "cell_type": "markdown",
   "metadata": {},
   "source": [
    "# Twitter Data Sentiment Analysis"
   ]
  },
  {
   "cell_type": "markdown",
   "metadata": {},
   "source": [
    "### Link for study : https://stepupanalytics.com/sentiment-analysis-on-narendra-modis-tweets-using-python/#prettyPhoto"
   ]
  },
  {
   "cell_type": "code",
   "execution_count": 1,
   "metadata": {},
   "outputs": [],
   "source": [
    "%matplotlib inline\n",
    "import tweepy\n",
    "import pandas as pd\n",
    "import numpy as np\n",
    "from IPython.display import display\n",
    "import matplotlib.pyplot as plt\n",
    "import seaborn as sns\n"
   ]
  },
  {
   "cell_type": "markdown",
   "metadata": {},
   "source": [
    "## Creating a twitter app for @user"
   ]
  },
  {
   "cell_type": "code",
   "execution_count": 2,
   "metadata": {},
   "outputs": [],
   "source": [
    "# Access\n",
    "#acces_token='966289632815144960-7BYnTY1ABbykfiNJNkZtjfhfmJfSsUl'\n",
    "#acces_token_secret='irZDHPTcMNYSikwCI9UohSlayGbGcLVEccvGptwaWOyil'\n",
    "\n",
    "#Consumer\n",
    "#consumer_key='enMyXDNHgcbBiRMUv9TfPHRW9'\n",
    "#consumer_secret='Yp4e9s856kllbT5JyZYxL1Pk4i88R9Mk9FaJT7rH0nBHlGO3Ks'\n",
    "# Access\n",
    "acces_token='1189193716210126851-BctMQL5GbsbCBE096ihwyfVIFOme84'\n",
    "acces_token_secret='e78h2f2X1GjXEMyfX064OAotIrOT0C7F8LYIV5AYKPXWT'\n",
    "\n",
    "#Consumer\n",
    "consumer_key='L3RNiywgtzucRJBT3YH44g3yZ'\n",
    "consumer_secret='el1NLHZMsjXPdP6j4GDcOqoJcSZsjXX4ZkqFUci255VKd1CTWV'"
   ]
  },
  {
   "cell_type": "code",
   "execution_count": 5,
   "metadata": {},
   "outputs": [],
   "source": [
    "# We import our access keys:\n",
    " \n",
    "def twitter_setup():\n",
    "    \n",
    "    auth = tweepy.OAuthHandler(consumer_key, consumer_secret)\n",
    "    auth.set_access_token(acces_token, acces_token_secret)\n",
    "    \n",
    "    api = tweepy.API(auth)\n",
    "    return api"
   ]
  },
  {
   "cell_type": "markdown",
   "metadata": {},
   "source": [
    "## Tweet Extraction"
   ]
  },
  {
   "cell_type": "code",
   "execution_count": 6,
   "metadata": {},
   "outputs": [
    {
     "name": "stdout",
     "output_type": "stream",
     "text": [
      "number of tweets extracted: 3250.\n",
      "\n",
      "5 recent tweets:\n",
      "\n",
      "This morning I had a wonderful interaction with our athletes who are all set to represent India at the 2022 CWG. We… https://t.co/RFVOLEQddI\n",
      "\n",
      "இதைக் கண்டபோது நான் பெருமகிழ்ச்சியும் உவகையும் கொண்டேன். ஒரே இந்தியா உன்னத இந்தியா கோட்பாட்டை அடுத்த நிலைக்கு எடுத்… https://t.co/3bkqUL1Cvj\n",
      "\n",
      "Glad to have met PT Usha Ji in Parliament. @PTUshaOfficial https://t.co/maRxU3cfYb\n",
      "\n",
      "I am delighted and proud to see this. Kudos to these shining stars of our Yuva Shakti from Arunachal Pradesh for fu… https://t.co/HPzCX5hpWz\n",
      "\n",
      "India's vaccination drive is big on speed and scale. It has been powered by collective efforts of many, including s… https://t.co/03GjRjFmiM\n",
      "\n"
     ]
    }
   ],
   "source": [
    "extractor = twitter_setup()\n",
    " \n",
    "tweets = extractor.user_timeline(screen_name=\"NarendraModi\", count = 200)\n",
    "tweets=[tweet for tweet in tweepy.Cursor(extractor.user_timeline,screen_name=\"NarendraModi\").items()]\n",
    "print(\"number of tweets extracted: {}.\\n\".format(len(tweets)))\n",
    " \n",
    "print(\"5 recent tweets:\\n\")\n",
    "for tweet in tweets[:5]:\n",
    "    print(tweet.text)\n",
    "    print()"
   ]
  },
  {
   "cell_type": "markdown",
   "metadata": {},
   "source": [
    "## Creating a (pandas) DataFrame"
   ]
  },
  {
   "cell_type": "code",
   "execution_count": 7,
   "metadata": {},
   "outputs": [
    {
     "data": {
      "text/html": [
       "<div>\n",
       "<style scoped>\n",
       "    .dataframe tbody tr th:only-of-type {\n",
       "        vertical-align: middle;\n",
       "    }\n",
       "\n",
       "    .dataframe tbody tr th {\n",
       "        vertical-align: top;\n",
       "    }\n",
       "\n",
       "    .dataframe thead th {\n",
       "        text-align: right;\n",
       "    }\n",
       "</style>\n",
       "<table border=\"1\" class=\"dataframe\">\n",
       "  <thead>\n",
       "    <tr style=\"text-align: right;\">\n",
       "      <th></th>\n",
       "      <th>tweets</th>\n",
       "    </tr>\n",
       "  </thead>\n",
       "  <tbody>\n",
       "    <tr>\n",
       "      <th>0</th>\n",
       "      <td>This morning I had a wonderful interaction wit...</td>\n",
       "    </tr>\n",
       "    <tr>\n",
       "      <th>1</th>\n",
       "      <td>இதைக் கண்டபோது நான் பெருமகிழ்ச்சியும் உவகையும்...</td>\n",
       "    </tr>\n",
       "    <tr>\n",
       "      <th>2</th>\n",
       "      <td>Glad to have met PT Usha Ji in Parliament. @PT...</td>\n",
       "    </tr>\n",
       "    <tr>\n",
       "      <th>3</th>\n",
       "      <td>I am delighted and proud to see this. Kudos to...</td>\n",
       "    </tr>\n",
       "    <tr>\n",
       "      <th>4</th>\n",
       "      <td>India's vaccination drive is big on speed and ...</td>\n",
       "    </tr>\n",
       "    <tr>\n",
       "      <th>5</th>\n",
       "      <td>Wishing our dynamic contingent the very best f...</td>\n",
       "    </tr>\n",
       "    <tr>\n",
       "      <th>6</th>\n",
       "      <td>At 10 AM tomorrow, 20th July, will be interact...</td>\n",
       "    </tr>\n",
       "    <tr>\n",
       "      <th>7</th>\n",
       "      <td>The great Mangal Pandey is synonymous with cou...</td>\n",
       "    </tr>\n",
       "    <tr>\n",
       "      <th>8</th>\n",
       "      <td>Anguished by the passing away of Shri Bhupinde...</td>\n",
       "    </tr>\n",
       "    <tr>\n",
       "      <th>9</th>\n",
       "      <td>आत्मनिर्भर भारत के लिए जैसे हम Whole of the Go...</td>\n",
       "    </tr>\n",
       "  </tbody>\n",
       "</table>\n",
       "</div>"
      ],
      "text/plain": [
       "                                              tweets\n",
       "0  This morning I had a wonderful interaction wit...\n",
       "1  இதைக் கண்டபோது நான் பெருமகிழ்ச்சியும் உவகையும்...\n",
       "2  Glad to have met PT Usha Ji in Parliament. @PT...\n",
       "3  I am delighted and proud to see this. Kudos to...\n",
       "4  India's vaccination drive is big on speed and ...\n",
       "5  Wishing our dynamic contingent the very best f...\n",
       "6  At 10 AM tomorrow, 20th July, will be interact...\n",
       "7  The great Mangal Pandey is synonymous with cou...\n",
       "8  Anguished by the passing away of Shri Bhupinde...\n",
       "9  आत्मनिर्भर भारत के लिए जैसे हम Whole of the Go..."
      ]
     },
     "metadata": {},
     "output_type": "display_data"
    }
   ],
   "source": [
    "data = pd.DataFrame(data=[tweet.text for tweet in tweets], columns=['tweets'])\n",
    " \n",
    "display(data.head(10))"
   ]
  },
  {
   "cell_type": "code",
   "execution_count": 8,
   "metadata": {},
   "outputs": [
    {
     "data": {
      "text/plain": [
       "(Index(['tweets'], dtype='object'),\n",
       " (3250, 1),\n",
       " tweets    object\n",
       " dtype: object,\n",
       "                                               tweets\n",
       " 0  This morning I had a wonderful interaction wit...\n",
       " 1  இதைக் கண்டபோது நான் பெருமகிழ்ச்சியும் உவகையும்...\n",
       " 2  Glad to have met PT Usha Ji in Parliament. @PT...\n",
       " 3  I am delighted and proud to see this. Kudos to...\n",
       " 4  India's vaccination drive is big on speed and ...)"
      ]
     },
     "execution_count": 8,
     "metadata": {},
     "output_type": "execute_result"
    }
   ],
   "source": [
    "data.columns,data.shape,data.dtypes,data.head()"
   ]
  },
  {
   "cell_type": "code",
   "execution_count": 9,
   "metadata": {},
   "outputs": [
    {
     "name": "stdout",
     "output_type": "stream",
     "text": [
      "1549773657870049283\n",
      "2022-07-20 15:10:08+00:00\n",
      "Twitter Media Studio\n",
      "8325\n",
      "2063\n",
      "None\n",
      "None\n",
      "{'hashtags': [], 'symbols': [], 'user_mentions': [], 'urls': [{'url': 'https://t.co/RFVOLEQddI', 'expanded_url': 'https://twitter.com/i/web/status/1549773657870049283', 'display_url': 'twitter.com/i/web/status/1…', 'indices': [117, 140]}]}\n"
     ]
    }
   ],
   "source": [
    "# We print info from the first tweet:\n",
    " \n",
    "print(tweets[0].id)\n",
    "print(tweets[0].created_at)\n",
    "print(tweets[0].source)\n",
    "print(tweets[0].favorite_count)\n",
    "print(tweets[0].retweet_count)\n",
    "print(tweets[0].geo)\n",
    "print(tweets[0].coordinates)\n",
    "print(tweets[0].entities)"
   ]
  },
  {
   "cell_type": "code",
   "execution_count": 10,
   "metadata": {},
   "outputs": [],
   "source": [
    "# We add relevant data\n",
    "data['len'] = np.array([len(tweet.text) for tweet in tweets])\n",
    "data['ID'] = np.array([tweet.id for tweet in tweets])\n",
    "data['Date'] = np.array([tweet.created_at for tweet in tweets])\n",
    "data['Source'] = np.array([tweet.source for tweet in tweets])\n",
    "data['Likes'] = np.array([tweet.favorite_count for tweet in tweets])\n",
    "data['RTs'] = np.array([tweet.retweet_count for tweet in tweets])"
   ]
  },
  {
   "cell_type": "code",
   "execution_count": 11,
   "metadata": {},
   "outputs": [
    {
     "data": {
      "text/html": [
       "<div>\n",
       "<style scoped>\n",
       "    .dataframe tbody tr th:only-of-type {\n",
       "        vertical-align: middle;\n",
       "    }\n",
       "\n",
       "    .dataframe tbody tr th {\n",
       "        vertical-align: top;\n",
       "    }\n",
       "\n",
       "    .dataframe thead th {\n",
       "        text-align: right;\n",
       "    }\n",
       "</style>\n",
       "<table border=\"1\" class=\"dataframe\">\n",
       "  <thead>\n",
       "    <tr style=\"text-align: right;\">\n",
       "      <th></th>\n",
       "      <th>tweets</th>\n",
       "      <th>len</th>\n",
       "      <th>ID</th>\n",
       "      <th>Date</th>\n",
       "      <th>Source</th>\n",
       "      <th>Likes</th>\n",
       "      <th>RTs</th>\n",
       "    </tr>\n",
       "  </thead>\n",
       "  <tbody>\n",
       "    <tr>\n",
       "      <th>0</th>\n",
       "      <td>This morning I had a wonderful interaction wit...</td>\n",
       "      <td>140</td>\n",
       "      <td>1549773657870049283</td>\n",
       "      <td>2022-07-20 15:10:08+00:00</td>\n",
       "      <td>Twitter Media Studio</td>\n",
       "      <td>8325</td>\n",
       "      <td>2063</td>\n",
       "    </tr>\n",
       "    <tr>\n",
       "      <th>1</th>\n",
       "      <td>இதைக் கண்டபோது நான் பெருமகிழ்ச்சியும் உவகையும்...</td>\n",
       "      <td>140</td>\n",
       "      <td>1549721166922756097</td>\n",
       "      <td>2022-07-20 11:41:33+00:00</td>\n",
       "      <td>Twitter for iPhone</td>\n",
       "      <td>9918</td>\n",
       "      <td>2825</td>\n",
       "    </tr>\n",
       "    <tr>\n",
       "      <th>2</th>\n",
       "      <td>Glad to have met PT Usha Ji in Parliament. @PT...</td>\n",
       "      <td>82</td>\n",
       "      <td>1549682995485089792</td>\n",
       "      <td>2022-07-20 09:09:52+00:00</td>\n",
       "      <td>Twitter for iPhone</td>\n",
       "      <td>45989</td>\n",
       "      <td>5266</td>\n",
       "    </tr>\n",
       "    <tr>\n",
       "      <th>3</th>\n",
       "      <td>I am delighted and proud to see this. Kudos to...</td>\n",
       "      <td>140</td>\n",
       "      <td>1549682762139205632</td>\n",
       "      <td>2022-07-20 09:08:56+00:00</td>\n",
       "      <td>Twitter for iPhone</td>\n",
       "      <td>18492</td>\n",
       "      <td>4501</td>\n",
       "    </tr>\n",
       "    <tr>\n",
       "      <th>4</th>\n",
       "      <td>India's vaccination drive is big on speed and ...</td>\n",
       "      <td>140</td>\n",
       "      <td>1549682495716982785</td>\n",
       "      <td>2022-07-20 09:07:53+00:00</td>\n",
       "      <td>Twitter for iPhone</td>\n",
       "      <td>14927</td>\n",
       "      <td>3656</td>\n",
       "    </tr>\n",
       "    <tr>\n",
       "      <th>5</th>\n",
       "      <td>Wishing our dynamic contingent the very best f...</td>\n",
       "      <td>89</td>\n",
       "      <td>1549614342538416128</td>\n",
       "      <td>2022-07-20 04:37:04+00:00</td>\n",
       "      <td>Twitter Media Studio</td>\n",
       "      <td>12461</td>\n",
       "      <td>3919</td>\n",
       "    </tr>\n",
       "    <tr>\n",
       "      <th>6</th>\n",
       "      <td>At 10 AM tomorrow, 20th July, will be interact...</td>\n",
       "      <td>140</td>\n",
       "      <td>1549420567421685760</td>\n",
       "      <td>2022-07-19 15:47:04+00:00</td>\n",
       "      <td>Twitter for iPhone</td>\n",
       "      <td>21089</td>\n",
       "      <td>4489</td>\n",
       "    </tr>\n",
       "    <tr>\n",
       "      <th>7</th>\n",
       "      <td>The great Mangal Pandey is synonymous with cou...</td>\n",
       "      <td>139</td>\n",
       "      <td>1549235617414135809</td>\n",
       "      <td>2022-07-19 03:32:09+00:00</td>\n",
       "      <td>Twitter for iPhone</td>\n",
       "      <td>49343</td>\n",
       "      <td>8579</td>\n",
       "    </tr>\n",
       "    <tr>\n",
       "      <th>8</th>\n",
       "      <td>Anguished by the passing away of Shri Bhupinde...</td>\n",
       "      <td>140</td>\n",
       "      <td>1549090020832813056</td>\n",
       "      <td>2022-07-18 17:53:36+00:00</td>\n",
       "      <td>Twitter for iPhone</td>\n",
       "      <td>33735</td>\n",
       "      <td>5602</td>\n",
       "    </tr>\n",
       "    <tr>\n",
       "      <th>9</th>\n",
       "      <td>आत्मनिर्भर भारत के लिए जैसे हम Whole of the Go...</td>\n",
       "      <td>140</td>\n",
       "      <td>1549045416138010626</td>\n",
       "      <td>2022-07-18 14:56:21+00:00</td>\n",
       "      <td>Twitter Media Studio</td>\n",
       "      <td>14126</td>\n",
       "      <td>4551</td>\n",
       "    </tr>\n",
       "  </tbody>\n",
       "</table>\n",
       "</div>"
      ],
      "text/plain": [
       "                                              tweets  len  \\\n",
       "0  This morning I had a wonderful interaction wit...  140   \n",
       "1  இதைக் கண்டபோது நான் பெருமகிழ்ச்சியும் உவகையும்...  140   \n",
       "2  Glad to have met PT Usha Ji in Parliament. @PT...   82   \n",
       "3  I am delighted and proud to see this. Kudos to...  140   \n",
       "4  India's vaccination drive is big on speed and ...  140   \n",
       "5  Wishing our dynamic contingent the very best f...   89   \n",
       "6  At 10 AM tomorrow, 20th July, will be interact...  140   \n",
       "7  The great Mangal Pandey is synonymous with cou...  139   \n",
       "8  Anguished by the passing away of Shri Bhupinde...  140   \n",
       "9  आत्मनिर्भर भारत के लिए जैसे हम Whole of the Go...  140   \n",
       "\n",
       "                    ID                      Date                Source  Likes  \\\n",
       "0  1549773657870049283 2022-07-20 15:10:08+00:00  Twitter Media Studio   8325   \n",
       "1  1549721166922756097 2022-07-20 11:41:33+00:00    Twitter for iPhone   9918   \n",
       "2  1549682995485089792 2022-07-20 09:09:52+00:00    Twitter for iPhone  45989   \n",
       "3  1549682762139205632 2022-07-20 09:08:56+00:00    Twitter for iPhone  18492   \n",
       "4  1549682495716982785 2022-07-20 09:07:53+00:00    Twitter for iPhone  14927   \n",
       "5  1549614342538416128 2022-07-20 04:37:04+00:00  Twitter Media Studio  12461   \n",
       "6  1549420567421685760 2022-07-19 15:47:04+00:00    Twitter for iPhone  21089   \n",
       "7  1549235617414135809 2022-07-19 03:32:09+00:00    Twitter for iPhone  49343   \n",
       "8  1549090020832813056 2022-07-18 17:53:36+00:00    Twitter for iPhone  33735   \n",
       "9  1549045416138010626 2022-07-18 14:56:21+00:00  Twitter Media Studio  14126   \n",
       "\n",
       "    RTs  \n",
       "0  2063  \n",
       "1  2825  \n",
       "2  5266  \n",
       "3  4501  \n",
       "4  3656  \n",
       "5  3919  \n",
       "6  4489  \n",
       "7  8579  \n",
       "8  5602  \n",
       "9  4551  "
      ]
     },
     "metadata": {},
     "output_type": "display_data"
    }
   ],
   "source": [
    "display(data.head(10))"
   ]
  },
  {
   "cell_type": "code",
   "execution_count": 12,
   "metadata": {},
   "outputs": [
    {
     "data": {
      "text/plain": [
       "Index(['tweets', 'len', 'ID', 'Date', 'Source', 'Likes', 'RTs'], dtype='object')"
      ]
     },
     "execution_count": 12,
     "metadata": {},
     "output_type": "execute_result"
    }
   ],
   "source": [
    "data.to_csv('Narendra_Modi_Latest')\n",
    "data.columns"
   ]
  },
  {
   "cell_type": "code",
   "execution_count": 13,
   "metadata": {},
   "outputs": [
    {
     "name": "stdout",
     "output_type": "stream",
     "text": [
      "the length's average in tweets: 127.54646153846154\n"
     ]
    }
   ],
   "source": [
    "# Visualization and basic stats\n",
    " \n",
    "# We extract the mean of length\n",
    " \n",
    "mean = np.mean(data['len'])\n",
    "print(\"the length's average in tweets: {}\".format(mean))"
   ]
  },
  {
   "cell_type": "code",
   "execution_count": 14,
   "metadata": {},
   "outputs": [
    {
     "name": "stdout",
     "output_type": "stream",
     "text": [
      "the tweet with more likes is: \n",
      "Took blessings of my mother today as she enters her 100th year... https://t.co/lTEVGcyzdX\n",
      "Number of likes: 305405\n",
      "89 character.\n",
      "\n",
      "The tweet with more retweets is: \n",
      "Gen Bipin Rawat was an outstanding soldier. A true patriot, he greatly contributed to modernising our armed forces… https://t.co/aUyn7tlnST\n",
      "Number of retweets: 39322\n",
      "139 character.\n",
      "\n"
     ]
    }
   ],
   "source": [
    "# We extract the tweet with more FAVs and mote RTs:\n",
    " \n",
    "fav_max = np.max(data['Likes'])\n",
    "rt_max = np.max(data['RTs'])\n",
    " \n",
    "fav = data[data.Likes == fav_max].index[0]\n",
    "rt = data[data.RTs == rt_max].index[0]\n",
    " \n",
    "# Max FAVs:\n",
    "print(\"the tweet with more likes is: \\n{}\".format(data['tweets'][fav]))\n",
    "print(\"Number of likes: {}\".format(fav_max))\n",
    "print(\"{} character.\\n\".format(data['len'][fav]))\n",
    " \n",
    "# Max RTs:\n",
    "print(\"The tweet with more retweets is: \\n{}\".format(data['tweets'][rt]))\n",
    "print(\"Number of retweets: {}\".format(rt_max))\n",
    "print(\"{} character.\\n\".format(data['len'][rt]))"
   ]
  },
  {
   "cell_type": "code",
   "execution_count": 15,
   "metadata": {},
   "outputs": [],
   "source": [
    "tlen = pd.Series(data = data['len'].values)   #, index=data['Data'])\n",
    "tfav = pd.Series(data = data['Likes'].values)   #, index=data['Data'])\n",
    "tret = pd.Series(data = data['RTs'].values) #, index=data['Data']"
   ]
  },
  {
   "cell_type": "code",
   "execution_count": 16,
   "metadata": {},
   "outputs": [
    {
     "data": {
      "image/png": "[encoded data removed]",
      "text/plain": [
       "<Figure size 1152x288 with 1 Axes>"
      ]
     },
     "metadata": {
      "needs_background": "light"
     },
     "output_type": "display_data"
    }
   ],
   "source": [
    "# Lenghts along time:\n",
    "tlen.plot(figsize=(16,4), color='r');"
   ]
  },
  {
   "cell_type": "code",
   "execution_count": 17,
   "metadata": {},
   "outputs": [
    {
     "data": {
      "image/png": "[encoded data removed]",
      "text/plain": [
       "<Figure size 1152x288 with 1 Axes>"
      ]
     },
     "metadata": {
      "needs_background": "light"
     },
     "output_type": "display_data"
    }
   ],
   "source": [
    "# Likes vs retweets visualization:\n",
    "tfav.plot(figsize=(16,4), label=\"Likes\", legend=True)\n",
    "tret.plot(figsize=(16,4), label=\"Retweets\", legend=True);"
   ]
  },
  {
   "cell_type": "markdown",
   "metadata": {},
   "source": [
    "## Pie Chart of Sources"
   ]
  },
  {
   "cell_type": "code",
   "execution_count": 18,
   "metadata": {
    "scrolled": true
   },
   "outputs": [
    {
     "name": "stdout",
     "output_type": "stream",
     "text": [
      "Creation of content sources:\n",
      "* Twitter Media Studio\n",
      "* Twitter for iPhone\n",
      "* Twitter Web App\n"
     ]
    }
   ],
   "source": [
    "# We obtain all possible sources:\n",
    "sources = []\n",
    "for source in data['Source']:\n",
    "    if source not in sources:\n",
    "        sources.append(source)\n",
    " \n",
    "# We print sources list:\n",
    "print(\"Creation of content sources:\")\n",
    "for source in sources:\n",
    "    print(\"* {}\".format(source))"
   ]
  },
  {
   "cell_type": "code",
   "execution_count": 19,
   "metadata": {},
   "outputs": [
    {
     "data": {
      "image/png": "[encoded data removed]",
      "text/plain": [
       "<Figure size 432x432 with 1 Axes>"
      ]
     },
     "metadata": {},
     "output_type": "display_data"
    }
   ],
   "source": [
    "# We create a numpy vector mapped to labels:\n",
    "percent = np.zeros(len(sources))\n",
    " \n",
    "for source in data['Source']:\n",
    "    for index in range(len(sources)):\n",
    "        if source == sources[index]:\n",
    "            percent[index] += 1\n",
    "            pass\n",
    " \n",
    "percent /= 100\n",
    " \n",
    "# Pie chart:\n",
    "pie_chart = pd.Series(percent, index=sources,name='')\n",
    "pie_chart.plot.pie(fontsize=11, autopct='%.2f', figsize=(6, 6));"
   ]
  },
  {
   "cell_type": "markdown",
   "metadata": {},
   "source": [
    "# Sentiment Analysis"
   ]
  },
  {
   "cell_type": "code",
   "execution_count": 20,
   "metadata": {},
   "outputs": [],
   "source": [
    "import textblob\n",
    "import re\n",
    " \n",
    "def clean_tweet(tweet):\n",
    "    '''\n",
    "    Utility function to clean the text in a tweet by removing \n",
    "    links and special characters using regex.\n",
    "    '''\n",
    "    return ' '.join(re.sub(\"(@[A-Za-z0-9]+)|([^0-9A-Za-z \\t])|(\\w+:\\/\\/\\S+)\", \" \", tweet).split())\n",
    " \n",
    "def analize_sentiment(tweet):\n",
    "    '''\n",
    "    Utility function to classify the polarity of a tweet\n",
    "    using textblob.\n",
    "    '''\n",
    "    analysis = textblob.TextBlob(clean_tweet(tweet))\n",
    "    #return str(analysis.sentiment.polarity)\n",
    "    if analysis.sentiment.polarity == 0:\n",
    "        return 0\n",
    "    elif analysis.sentiment.polarity > 0:\n",
    "        return 1\n",
    "    else:\n",
    "        return -1"
   ]
  },
  {
   "cell_type": "code",
   "execution_count": 21,
   "metadata": {},
   "outputs": [],
   "source": [
    "l=[]\n",
    "for tweet in data['tweets']:\n",
    "    l.append(analize_sentiment(tweet))"
   ]
  },
  {
   "cell_type": "code",
   "execution_count": 22,
   "metadata": {},
   "outputs": [],
   "source": [
    "data['SA']=np.array(l)"
   ]
  },
  {
   "cell_type": "code",
   "execution_count": 23,
   "metadata": {},
   "outputs": [
    {
     "data": {
      "text/html": [
       "<div>\n",
       "<style scoped>\n",
       "    .dataframe tbody tr th:only-of-type {\n",
       "        vertical-align: middle;\n",
       "    }\n",
       "\n",
       "    .dataframe tbody tr th {\n",
       "        vertical-align: top;\n",
       "    }\n",
       "\n",
       "    .dataframe thead th {\n",
       "        text-align: right;\n",
       "    }\n",
       "</style>\n",
       "<table border=\"1\" class=\"dataframe\">\n",
       "  <thead>\n",
       "    <tr style=\"text-align: right;\">\n",
       "      <th></th>\n",
       "      <th>tweets</th>\n",
       "      <th>len</th>\n",
       "      <th>ID</th>\n",
       "      <th>Date</th>\n",
       "      <th>Source</th>\n",
       "      <th>Likes</th>\n",
       "      <th>RTs</th>\n",
       "      <th>SA</th>\n",
       "    </tr>\n",
       "  </thead>\n",
       "  <tbody>\n",
       "    <tr>\n",
       "      <th>0</th>\n",
       "      <td>This morning I had a wonderful interaction wit...</td>\n",
       "      <td>140</td>\n",
       "      <td>1549773657870049283</td>\n",
       "      <td>2022-07-20 15:10:08+00:00</td>\n",
       "      <td>Twitter Media Studio</td>\n",
       "      <td>8325</td>\n",
       "      <td>2063</td>\n",
       "      <td>1</td>\n",
       "    </tr>\n",
       "    <tr>\n",
       "      <th>1</th>\n",
       "      <td>இதைக் கண்டபோது நான் பெருமகிழ்ச்சியும் உவகையும்...</td>\n",
       "      <td>140</td>\n",
       "      <td>1549721166922756097</td>\n",
       "      <td>2022-07-20 11:41:33+00:00</td>\n",
       "      <td>Twitter for iPhone</td>\n",
       "      <td>9918</td>\n",
       "      <td>2825</td>\n",
       "      <td>0</td>\n",
       "    </tr>\n",
       "    <tr>\n",
       "      <th>2</th>\n",
       "      <td>Glad to have met PT Usha Ji in Parliament. @PT...</td>\n",
       "      <td>82</td>\n",
       "      <td>1549682995485089792</td>\n",
       "      <td>2022-07-20 09:09:52+00:00</td>\n",
       "      <td>Twitter for iPhone</td>\n",
       "      <td>45989</td>\n",
       "      <td>5266</td>\n",
       "      <td>1</td>\n",
       "    </tr>\n",
       "    <tr>\n",
       "      <th>3</th>\n",
       "      <td>I am delighted and proud to see this. Kudos to...</td>\n",
       "      <td>140</td>\n",
       "      <td>1549682762139205632</td>\n",
       "      <td>2022-07-20 09:08:56+00:00</td>\n",
       "      <td>Twitter for iPhone</td>\n",
       "      <td>18492</td>\n",
       "      <td>4501</td>\n",
       "      <td>1</td>\n",
       "    </tr>\n",
       "    <tr>\n",
       "      <th>4</th>\n",
       "      <td>India's vaccination drive is big on speed and ...</td>\n",
       "      <td>140</td>\n",
       "      <td>1549682495716982785</td>\n",
       "      <td>2022-07-20 09:07:53+00:00</td>\n",
       "      <td>Twitter for iPhone</td>\n",
       "      <td>14927</td>\n",
       "      <td>3656</td>\n",
       "      <td>1</td>\n",
       "    </tr>\n",
       "  </tbody>\n",
       "</table>\n",
       "</div>"
      ],
      "text/plain": [
       "                                              tweets  len  \\\n",
       "0  This morning I had a wonderful interaction wit...  140   \n",
       "1  இதைக் கண்டபோது நான் பெருமகிழ்ச்சியும் உவகையும்...  140   \n",
       "2  Glad to have met PT Usha Ji in Parliament. @PT...   82   \n",
       "3  I am delighted and proud to see this. Kudos to...  140   \n",
       "4  India's vaccination drive is big on speed and ...  140   \n",
       "\n",
       "                    ID                      Date                Source  Likes  \\\n",
       "0  1549773657870049283 2022-07-20 15:10:08+00:00  Twitter Media Studio   8325   \n",
       "1  1549721166922756097 2022-07-20 11:41:33+00:00    Twitter for iPhone   9918   \n",
       "2  1549682995485089792 2022-07-20 09:09:52+00:00    Twitter for iPhone  45989   \n",
       "3  1549682762139205632 2022-07-20 09:08:56+00:00    Twitter for iPhone  18492   \n",
       "4  1549682495716982785 2022-07-20 09:07:53+00:00    Twitter for iPhone  14927   \n",
       "\n",
       "    RTs  SA  \n",
       "0  2063   1  \n",
       "1  2825   0  \n",
       "2  5266   1  \n",
       "3  4501   1  \n",
       "4  3656   1  "
      ]
     },
     "execution_count": 23,
     "metadata": {},
     "output_type": "execute_result"
    }
   ],
   "source": [
    "data.head()"
   ]
  },
  {
   "cell_type": "markdown",
   "metadata": {},
   "source": [
    "## Analyzing the result"
   ]
  },
  {
   "cell_type": "code",
   "execution_count": 24,
   "metadata": {},
   "outputs": [],
   "source": [
    "# We construct lists with classified tweets:\n",
    " \n",
    "pos_tweets = [ tweet for index, tweet in enumerate(data['tweets']) if data['SA'][index] > 0]\n",
    "neu_tweets = [ tweet for index, tweet in enumerate(data['tweets']) if data['SA'][index] == 0]\n",
    "neg_tweets = [ tweet for index, tweet in enumerate(data['tweets']) if data['SA'][index] < 0]"
   ]
  },
  {
   "cell_type": "code",
   "execution_count": 25,
   "metadata": {},
   "outputs": [
    {
     "name": "stdout",
     "output_type": "stream",
     "text": [
      "Percentage of positive tweets: 35.723076923076924%\n",
      "Percentage of neutral tweets: 59.63076923076923%\n",
      "Percentage of negative tweets: 4.6461538461538465%\n"
     ]
    }
   ],
   "source": [
    "# We print percentages:\n",
    " \n",
    "print(\"Percentage of positive tweets: {}%\".format(len(pos_tweets)*100/len(data['tweets'])))\n",
    "print(\"Percentage of neutral tweets: {}%\".format(len(neu_tweets)*100/len(data['tweets'])))\n",
    "print(\"Percentage of negative tweets: {}%\".format(len(neg_tweets)*100/len(data['tweets'])))"
   ]
  },
  {
   "cell_type": "code",
   "execution_count": 26,
   "metadata": {},
   "outputs": [],
   "source": [
    "p=(len(pos_tweets)*100/len(data['tweets']))\n",
    "ne=(len(neu_tweets)*100/len(data['tweets']))\n",
    "n=(len(neg_tweets)*100/len(data['tweets']))"
   ]
  },
  {
   "cell_type": "code",
   "execution_count": 27,
   "metadata": {},
   "outputs": [],
   "source": [
    "d=[p,ne,n]\n",
    "l=['Positive Sentiments','Neutral_Sentiments','Negative_Sentiments']"
   ]
  },
  {
   "cell_type": "code",
   "execution_count": 28,
   "metadata": {},
   "outputs": [
    {
     "data": {
      "image/png": "[encoded data removed]",
      "text/plain": [
       "<Figure size 432x288 with 1 Axes>"
      ]
     },
     "metadata": {},
     "output_type": "display_data"
    }
   ],
   "source": [
    "plt.pie(d,labels=l,autopct=\"%0.2f\",shadow=True,explode=(0.1,0,0),colors=['green','blue','red'])\n",
    "#plt.title(\"Sentiment Analysis on PM Narendra Modi's Tweets\",size=25)\n",
    "plt.show()\n"
   ]
  },
  {
   "cell_type": "code",
   "execution_count": 29,
   "metadata": {},
   "outputs": [
    {
     "data": {
      "image/png": "[encoded data removed]",
      "text/plain": [
       "<Figure size 432x288 with 1 Axes>"
      ]
     },
     "metadata": {
      "needs_background": "light"
     },
     "output_type": "display_data"
    }
   ],
   "source": [
    "plt.bar(l,d,color=['green','blue','red'])\n",
    "#plt.title(\"Sentiment Analysis on PM Narendra Modi's Tweets\",size=15)\n",
    "plt.ylabel(\"Sentiments in %\")\n",
    "plt.show()"
   ]
  },
  {
   "cell_type": "code",
   "execution_count": null,
   "metadata": {},
   "outputs": [],
   "source": []
  }
 ],
 "metadata": {
  "kernelspec": {
   "display_name": "Python 3.9.10 64-bit (windows store)",
   "language": "python",
   "name": "python3"
  },
  "language_info": {
   "codemirror_mode": {
    "name": "ipython",
    "version": 3
   },
   "file_extension": ".py",
   "mimetype": "text/x-python",
   "name": "python",
   "nbconvert_exporter": "python",
   "pygments_lexer": "ipython3",
   "version": "3.9.13"
  },
  "vscode": {
   "interpreter": {
    "hash": "c4811023a6de7646a49fc122078a5bd433e390e7891b28e0459b0dffd997b09f"
   }
  }
 },
 "nbformat": 4,
 "nbformat_minor": 2
}
